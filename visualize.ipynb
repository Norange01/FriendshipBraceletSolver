{
 "cells": [
  {
   "cell_type": "markdown",
   "id": "ec1effaa",
   "metadata": {},
   "source": [
    "To do: must make it more adaptable to changes between odd vs even num of threads."
   ]
  },
  {
   "cell_type": "code",
   "execution_count": 62,
   "id": "04d29c89",
   "metadata": {},
   "outputs": [],
   "source": [
    "from PIL import Image, ImageDraw, ImageOps\n",
    "import numpy as np\n",
    "\n",
    "OVAL_RADIUS=20\n",
    "LINE_THICKNESS=10\n",
    "KNOT_HORIZ_SPACING=3*OVAL_RADIUS\n",
    "KNOT_VERT_SPACING=int(KNOT_HORIZ_SPACING/2)-(OVAL_RADIUS)\n",
    "HORIZ_MARGIN=80\n",
    "VERT_MARGIN=40\n",
    "\n",
    "black_arrows=[Image.open(\"Icons\\FWD_B.png\").convert(\"RGBA\").resize((OVAL_RADIUS, OVAL_RADIUS)),\n",
    "              Image.open(\"Icons\\BWD_B.png\").convert(\"RGBA\").resize((OVAL_RADIUS, OVAL_RADIUS)),\n",
    "              Image.open(\"Icons\\FWDBWD_B.png\").convert(\"RGBA\").resize((OVAL_RADIUS, OVAL_RADIUS)),\n",
    "              Image.open(\"Icons\\BWDFWD_B.png\").convert(\"RGBA\").resize((OVAL_RADIUS, OVAL_RADIUS))]\n",
    "\n",
    "white_arrows=[Image.open(\"Icons\\FWD_W.png\").convert(\"RGBA\").resize((OVAL_RADIUS, OVAL_RADIUS)),\n",
    "              Image.open(\"Icons\\BWD_W.png\").convert(\"RGBA\").resize((OVAL_RADIUS, OVAL_RADIUS)),\n",
    "              Image.open(\"Icons\\FWDBWD_W.png\").convert(\"RGBA\").resize((OVAL_RADIUS, OVAL_RADIUS)),\n",
    "              Image.open(\"Icons\\BWDFWD_W.png\").convert(\"RGBA\").resize((OVAL_RADIUS, OVAL_RADIUS))]\n",
    "\n",
    "\n",
    "def get_color_appropriate_arrow(arrow_index, color_hex):\n",
    "    color_hex=color_hex.lstrip('#')\n",
    "\n",
    "    r = int(color_hex[0:2], 16)\n",
    "    g = int(color_hex[2:4], 16)\n",
    "    b = int(color_hex[4:6], 16)\n",
    "\n",
    "    luminance = (0.299 * r + 0.587 * g + 0.114 * b) / 255\n",
    "\n",
    "    if(luminance<0.5): # if dark\n",
    "        return white_arrows[arrow_index]\n",
    "    else:\n",
    "        return black_arrows[arrow_index]\n",
    "    \n",
    "\n",
    "def get_knot_result(arrow_index, left_color, right_color):\n",
    "    knot_color=None\n",
    "    new_left_color=None\n",
    "    new_right_color=None\n",
    "\n",
    "    if(arrow_index==0 or arrow_index==2): # fwd or fwdbwd\n",
    "        knot_color=left_color\n",
    "    else: # bwd or bwdfwd\n",
    "        knot_color=right_color\n",
    "\n",
    "\n",
    "    if(arrow_index==0 or arrow_index==1): # fwd or bwd\n",
    "        new_left_color=right_color\n",
    "        new_right_color=left_color\n",
    "    else: # fwdbwd or bwdfwrd\n",
    "        new_left_color=left_color\n",
    "        new_right_color=right_color\n",
    "\n",
    "    return knot_color, new_left_color, new_right_color\n"
   ]
  },
  {
   "cell_type": "markdown",
   "id": "ac1ff7c9",
   "metadata": {},
   "source": [
    "- FWD: 0\n",
    "- BWD: 1\n",
    "- FWDBWD: 2\n",
    "- BWDFWD: 3\n",
    "- NO KNOT: -1"
   ]
  },
  {
   "cell_type": "code",
   "execution_count": 76,
   "id": "a90996b8",
   "metadata": {},
   "outputs": [
    {
     "name": "stdout",
     "output_type": "stream",
     "text": [
      "['#ff0000', '#ffff00', '#ff0000', '#0000ff', '#ff0000', '#ff0000', '#ff0000', '#ffff00', '#ff0000']\n",
      "['#ff0000', '#ff0000', '#ffff00', '#ff0000', '#0000ff', '#ff0000', '#ff0000', '#ff0000', '#ffff00']\n",
      "['#ff0000', '#ff0000', '#ffff00', '#ff0000', '#0000ff', '#ff0000', '#ff0000', '#ff0000', '#ffff00']\n",
      "['#ff0000', '#ffff00', '#ff0000', '#0000ff', '#ff0000', '#ff0000', '#ff0000', '#ffff00', '#ff0000']\n"
     ]
    },
    {
     "data": {
      "image/png": "[encoded data removed]",
      "text/plain": [
       "<PIL.Image.Image image mode=RGBA size=502x272>"
      ]
     },
     "metadata": {},
     "output_type": "display_data"
    }
   ],
   "source": [
    "num_rows=4\n",
    "num_threads=9\n",
    "num_cols=int(np.floor(float(num_threads)/2))\n",
    "\n",
    "#############################\n",
    "# For testing\n",
    "#############################\n",
    "\n",
    "knots_array=[[0, 1, 1, 3],\n",
    "             [0, 0, 0, 0],\n",
    "             [3, 2, 2, 0],\n",
    "             [0, 0, 0, 0]]\n",
    "\n",
    "threads_array=[['#ffff00', '#ff0000', '#0000ff', '#ff0000','#ff0000','#ff0000','#ff0000','#ffff00','#ff0000']]\n",
    "\n",
    "##############################\n",
    "\n",
    "image = Image.new('RGBA',\n",
    "                   (HORIZ_MARGIN*2+(num_cols*OVAL_RADIUS*2)+((num_cols-1)*KNOT_HORIZ_SPACING), VERT_MARGIN*2+(num_rows*OVAL_RADIUS*2)+((num_rows-1)*KNOT_VERT_SPACING))\n",
    "                   ) # width x height\n",
    "draw = ImageDraw.Draw(image)\n",
    "for row in range(num_rows):\n",
    "    threads_row=threads_array[-1]\n",
    "    new_threads_row=[]\n",
    "    if(row%2!=0): # if row is odd\n",
    "        new_threads_row.append(threads_row[0])\n",
    "\n",
    "    for col in range(num_cols):\n",
    "        if(row%2==0): # if row is even\n",
    "            oval_x_start=int(HORIZ_MARGIN+(2*col*OVAL_RADIUS)+(col*KNOT_HORIZ_SPACING))\n",
    "            left_in=threads_row[col*2]\n",
    "            right_in=threads_row[(col*2)+1]\n",
    "        else: # if row is odd\n",
    "            oval_x_start=int((OVAL_RADIUS)+(KNOT_HORIZ_SPACING/2)+HORIZ_MARGIN+(2*col*OVAL_RADIUS)+(col*KNOT_HORIZ_SPACING))\n",
    "            if(num_threads%2==0 and col==num_cols-1): # if num of threads is even and we reached end of row\n",
    "                new_threads_row.append(threads_row[-1])\n",
    "                continue # no knot\n",
    "            left_in=threads_row[(col*2)+1]\n",
    "            right_in=threads_row[(col*2)+2]\n",
    "        color_hex, new_left, new_right =get_knot_result(knots_array[row][col],left_in, right_in)\n",
    "        \n",
    "        oval_y_start=int(VERT_MARGIN+(2*row*OVAL_RADIUS)+(row*KNOT_VERT_SPACING))\n",
    "\n",
    "        #if(row==0): # if first row\n",
    "        draw.line([(oval_x_start,oval_y_start),(oval_x_start+OVAL_RADIUS,oval_y_start+OVAL_RADIUS)], fill=left_in, width=LINE_THICKNESS)\n",
    "        draw.line([(oval_x_start+(2*OVAL_RADIUS),oval_y_start),(oval_x_start+OVAL_RADIUS,oval_y_start+OVAL_RADIUS)], fill=right_in, width=LINE_THICKNESS)\n",
    "        #if(row==num_rows-1): # if last row\n",
    "        draw.line([(oval_x_start+OVAL_RADIUS,oval_y_start+OVAL_RADIUS),(oval_x_start+(2*OVAL_RADIUS),oval_y_start+(2*OVAL_RADIUS))], fill=new_right, width=LINE_THICKNESS)\n",
    "        draw.line([(oval_x_start+OVAL_RADIUS,oval_y_start+OVAL_RADIUS),(oval_x_start,oval_y_start+(2*OVAL_RADIUS))], fill=new_left, width=LINE_THICKNESS)\n",
    "        \n",
    "        arrow=get_color_appropriate_arrow(knots_array[row][col], color_hex=color_hex)\n",
    "        draw.ellipse((oval_x_start, oval_y_start, oval_x_start+OVAL_RADIUS*2, oval_y_start+OVAL_RADIUS*2), fill = color_hex)\n",
    "        \n",
    "        image.paste(arrow, (oval_x_start+int(OVAL_RADIUS/2), oval_y_start+int(OVAL_RADIUS/2)),arrow)\n",
    "\n",
    "        new_threads_row.append(new_left)\n",
    "        new_threads_row.append(new_right)\n",
    "    if(num_threads%2!=0 and row%2==0):\n",
    "        new_threads_row.append(threads_row[-1])\n",
    "    threads_array.append(new_threads_row)\n",
    "    print(new_threads_row)\n",
    "#draw.line([(0,0),(500,500)], fill='red', width=LINE_THICKNESS)\n",
    "image=ImageOps.expand(image, border=1, fill='white')\n",
    "display(image)\n"
   ]
  }
 ],
 "metadata": {
  "kernelspec": {
   "display_name": "Python 3",
   "language": "python",
   "name": "python3"
  },
  "language_info": {
   "codemirror_mode": {
    "name": "ipython",
    "version": 3
   },
   "file_extension": ".py",
   "mimetype": "text/x-python",
   "name": "python",
   "nbconvert_exporter": "python",
   "pygments_lexer": "ipython3",
   "version": "3.11.9"
  }
 },
 "nbformat": 4,
 "nbformat_minor": 5
}
